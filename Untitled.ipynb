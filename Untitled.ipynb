{
 "cells": [
  {
   "cell_type": "markdown",
   "metadata": {},
   "source": [
    "# BadNets paper implementation\n",
    "> This is a basic implementation of [BadNets: Identifying Vulnerabilities in the Machine Learning Model Supply Chain paper](https://arxiv.org/pdf/1708.06733.pdf)"
   ]
  },
  {
   "cell_type": "markdown",
   "metadata": {},
   "source": [
    "\n",
    "## I. General idea of the paper:\n",
    "Despite the high performance of the image recognition and classification neural networks, these are expensive in ressources. To leverage this problem, users tend to outsource the training process on a cloud GPU provider or even fine tune existing pretrained models.\n",
    "\n",
    "This paper shows that the outsourcing of the training process comes with a new challenge: the ability of an adversary to create a backdoored network. A Badnet or a bcakdoored network is created in a malicious manner to  state of the art results on user's training an validation data. But when a backdoor trigger is present within the input a badnet will misclassify it and output the adversary's chosen output.\n",
    "\n",
    "In order to achieve this, an adversary should incorporate a backdoor trigger recognizer into the original network of the user. This is done by poisning the trainingset. In other words, add some bad examples to the training set(inputs with triggers whose labels are chosen by the adversary).\n",
    "\n",
    "I this threat model, the adversary is allowed to freely modify the training procedure as long as the returned model satisfies the accuraccy expected by the user.\n",
    "> For this imlpementation we are going to implement the badnet and test it on MNist dataset and on the Cifar10 datasets.\n",
    "\n",
    "<H2> Table of Content</H2>\n",
    "\n",
    "<ol>\n",
    "    <li> <a href=\"#mnist\">Mnist dataset case</a>\n",
    "        <ol>\n",
    "            <li><a href=\"#tools\">Importing tools</a></li>\n",
    "            <li><a href=\"#dataloaders\">Load data</a></li>\n",
    "            <li><a href=\"#training\">Training models</a></li>\n",
    "            <li><a href=\"#eval\">Some Extra evaluation results</a></li>\n",
    "        </ol>\n",
    "     </li>\n",
    "    <li> <a href=\"#mnist\">Cifar10 dataset case</a>\n",
    "        <ol>\n",
    "            <li><a href=\"#dataloaders2\">Load data</a></li>\n",
    "            <li><a href=\"#training2\">Training models</a></li>\n",
    "            <li><a href=\"#eval2\">Some Extra evaluation results</a></li>\n",
    "        </ol>\n",
    "     </li>\n",
    "</ol>\n"
   ]
  },
  {
   "cell_type": "markdown",
   "metadata": {},
   "source": [
    "## II. Mnist dataset case:<a id='mnist'></a>\n"
   ]
  },
  {
   "cell_type": "markdown",
   "metadata": {},
   "source": [
    "### 1. importing the necessary tools: <a id='tools'></a>"
   ]
  },
  {
   "cell_type": "code",
   "execution_count": 1,
   "metadata": {},
   "outputs": [],
   "source": [
    "from models.models import *\n",
    "from datasets.poisoned_datasets import *\n",
    "from  datasets.utils import *\n",
    "import training_utils as TU\n",
    "from torch.optim import *\n",
    "from pandas import DataFrame\n",
    "import os"
   ]
  },
  {
   "cell_type": "markdown",
   "metadata": {},
   "source": [
    "### 2. Prepare dataloaders and models: <a id='dataloaders'></a>"
   ]
  },
  {
   "cell_type": "code",
   "execution_count": 3,
   "metadata": {},
   "outputs": [
    {
     "name": "stdout",
     "output_type": "stream",
     "text": [
      " 30000 Bad Imgs, 30000 Clean Imgs (0.50)\n",
      " 5000 Bad Imgs, 5000 Clean Imgs (0.50)\n"
     ]
    }
   ],
   "source": [
    "# case 1 : Backdoor pattern + all in attack \n",
    "dataset_name=\"mnist\"\n",
    "backdoor_pattern=True# true if the trigger is a patern and False if it's a single bright pixel\n",
    "backdoor_portion=0.2# the portion of the backdoored examples within the dataset\n",
    "attack_type=-1 #-1  then All-to-all attack otherwise Single target attack \n",
    "batch_size = 20\n",
    "train_clean_loader_1,train_backdoored_loader_1, test_clean_loader_1, test_backdoored_loader_1=  get_poisoned_dataloaders(batch_size=batch_size,\n",
    "                                                                                                                 dataset_name=dataset_name,\n",
    "                                                                                                                 backdoor_pattern=backdoor_pattern,\n",
    "                                                                                                                 backdoor_portion=backdoor_portion,\n",
    "                                                                                                                 attack_type=attack_type) "
   ]
  },
  {
   "cell_type": "code",
   "execution_count": 4,
   "metadata": {
    "scrolled": true
   },
   "outputs": [
    {
     "data": {
      "image/png": "[encoded data removed]",
      "text/plain": [
       "<Figure size 432x288 with 6 Axes>"
      ]
     },
     "metadata": {},
     "output_type": "display_data"
    }
   ],
   "source": [
    "# Display a sample with backdoor pattern trigger\n",
    "TU.display_batch(train_backdoored_loader_1,Nbr_images = 6)"
   ]
  },
  {
   "cell_type": "code",
   "execution_count": 21,
   "metadata": {},
   "outputs": [
    {
     "name": "stdout",
     "output_type": "stream",
     "text": [
      " 30000 Bad Imgs, 30000 Clean Imgs (0.50)\n",
      " 5000 Bad Imgs, 5000 Clean Imgs (0.50)\n"
     ]
    }
   ],
   "source": [
    "# case 2 : backdoor pattern + single target attack \n",
    "ataset_name=\"mnist\"\n",
    "backdoor_pattern=True# true if the trigger is a patern and False if it's a single bright pixel\n",
    "backdoor_portion=0.5# the portion of the backdoored examples within the dataset\n",
    "attack_type= 4 #-1  then All-to-all attack otherwise Single target attack \n",
    "batch_size = 20 \n",
    "train_clean_loader_2,train_backdoored_loader_2, test_clean_loader_2, test_backdoored_loader_2=  get_poisoned_dataloaders(batch_size=batch_size,\n",
    "                                                                                                                 dataset_name=dataset_name,\n",
    "                                                                                                                 backdoor_pattern=backdoor_pattern,\n",
    "                                                                                                                 backdoor_portion=backdoor_portion,\n",
    "                                                                                                                 attack_type=attack_type) "
   ]
  },
  {
   "cell_type": "code",
   "execution_count": 33,
   "metadata": {},
   "outputs": [
    {
     "name": "stdout",
     "output_type": "stream",
     "text": [
      " 30000 Bad Imgs, 30000 Clean Imgs (0.50)\n",
      " 5000 Bad Imgs, 5000 Clean Imgs (0.50)\n"
     ]
    }
   ],
   "source": [
    "# Case 3 : Single bright pixel trigger + all in attack \n",
    "ataset_name=\"mnist\"\n",
    "backdoor_pattern=False# true if the trigger is a patern and False if it's a single bright pixel\n",
    "backdoor_portion=0.5# the portion of the backdoored examples within the dataset\n",
    "attack_type=-1 #-1  then All-to-all attack otherwise Single target attack \n",
    "batch_size = 20 \n",
    "train_clean_loader_3,train_backdoored_loader_3, test_clean_loader_3, test_backdoored_loader_3=  get_poisoned_dataloaders(batch_size=batch_size,\n",
    "                                                                                                                 dataset_name=dataset_name,\n",
    "                                                                                                                 backdoor_pattern=backdoor_pattern,\n",
    "                                                                                                                 backdoor_portion=backdoor_portion,\n",
    "                                                                                                                 attack_type=attack_type) "
   ]
  },
  {
   "cell_type": "code",
   "execution_count": 7,
   "metadata": {},
   "outputs": [
    {
     "data": {
      "image/png": "[encoded data removed]",
      "text/plain": [
       "<Figure size 432x288 with 6 Axes>"
      ]
     },
     "metadata": {},
     "output_type": "display_data"
    }
   ],
   "source": [
    "# Display a sample with single bright pixel backdoor  trigger\n",
    "TU.display_batch(train_backdoored_loader_3,Nbr_images = 6)"
   ]
  },
  {
   "cell_type": "code",
   "execution_count": 50,
   "metadata": {},
   "outputs": [
    {
     "name": "stdout",
     "output_type": "stream",
     "text": [
      " 30000 Bad Imgs, 30000 Clean Imgs (0.50)\n",
      " 5000 Bad Imgs, 5000 Clean Imgs (0.50)\n"
     ]
    }
   ],
   "source": [
    "# case 4 : Single bright pixel trigger + Single target attack\n",
    "ataset_name=\"mnist\"\n",
    "backdoor_pattern=False# true if the trigger is a patern and False if it's a single bright pixel\n",
    "backdoor_portion=0.5# the portion of the backdoored examples within the dataset\n",
    "attack_type=4 #-1  then All-to-all attack otherwise Single target attack \n",
    "batch_size = 20 \n",
    "train_clean_loader_4,train_backdoored_loader_4, test_clean_loader_4, test_backdoored_loader_4=  get_poisoned_dataloaders(batch_size=batch_size,\n",
    "                                                                                                                 dataset_name=dataset_name,\n",
    "                                                                                                                 backdoor_pattern=backdoor_pattern,\n",
    "                                                                                                                 backdoor_portion=backdoor_portion,\n",
    "                                                                                                                 attack_type=attack_type) "
   ]
  },
  {
   "cell_type": "code",
   "execution_count": 4,
   "metadata": {
    "scrolled": true
   },
   "outputs": [],
   "source": [
    "model_clean = MNIST_Classifier(in_channels=1,out_channels=10)# clean\n",
    "model_backdoor_1 = MNIST_Classifier(in_channels=1,out_channels=10)# pattern backdoor +all in attack \n",
    "model_backdoor_2 = MNIST_Classifier(in_channels=1,out_channels=10)# pattern backdoor + Single target attack\n",
    "model_backdoor_3 = MNIST_Classifier(in_channels=1,out_channels=10)# Single bright pixel backdoor + all in attack \n",
    "model_backdoor_4 = MNIST_Classifier(in_channels=1,out_channels=10)# Single bright pixel backdoor + Single target attack"
   ]
  },
  {
   "cell_type": "markdown",
   "metadata": {},
   "source": [
    "### 3. Training models: <a id='training'></a>\n"
   ]
  },
  {
   "cell_type": "code",
   "execution_count": 5,
   "metadata": {},
   "outputs": [],
   "source": [
    " # hyper-parameters\n",
    "optimizer_clean = Adam(model_clean.parameters() ,lr=0.001)\n",
    "optimizer_backdoor_1 = Adam(model_backdoor_1.parameters(), lr=0.001)\n",
    "optimizer_backdoor_2 = Adam(model_backdoor_2.parameters(), lr=0.001)\n",
    "optimizer_backdoor_3 = Adam(model_backdoor_3.parameters(), lr = 0.001)\n",
    "optimizer_backdoor_4 = Adam(model_backdoor_4.parameters(), lr=0.001)"
   ]
  },
  {
   "cell_type": "markdown",
   "metadata": {},
   "source": [
    "#### 3.1 Training a clean model:"
   ]
  },
  {
   "cell_type": "code",
   "execution_count": 6,
   "metadata": {
    "scrolled": true
   },
   "outputs": [
    {
     "name": "stdout",
     "output_type": "stream",
     "text": [
      "Epoch 1 - Training loss: 1.5407010593811672\n",
      "Epoch 2 - Training loss: 1.4907882956663767\n",
      "Epoch 3 - Training loss: 1.4846951880057653\n",
      "Epoch 4 - Training loss: 1.4793224084774652\n",
      "Epoch 5 - Training loss: 1.4782829912900926\n",
      "Epoch 6 - Training loss: 1.47706885433197\n",
      "Epoch 7 - Training loss: 1.475008399049441\n",
      "Epoch 8 - Training loss: 1.4748993440469107\n",
      "Epoch 9 - Training loss: 1.4745187134345372\n",
      "Epoch 10 - Training loss: 1.4739747538169226\n",
      "Epoch 11 - Training loss: 1.4735095564921696\n",
      "Epoch 12 - Training loss: 1.4744200884103775\n",
      "Epoch 13 - Training loss: 1.4722312947511673\n",
      "Epoch 14 - Training loss: 1.473279179930687\n",
      "Epoch 15 - Training loss: 1.4721295323769252\n",
      "Epoch 16 - Training loss: 1.472185734629631\n",
      "Epoch 17 - Training loss: 1.4721547124783199\n",
      "Epoch 18 - Training loss: 1.4721195802688598\n",
      "Epoch 19 - Training loss: 1.472778888265292\n",
      "Epoch 20 - Training loss: 1.4720531891584396\n",
      "Epoch 21 - Training loss: 1.4709976977109909\n",
      "Epoch 22 - Training loss: 1.4716621354818344\n",
      "Epoch 23 - Training loss: 1.4711947305599848\n",
      "Epoch 24 - Training loss: 1.4706932680606841\n",
      "Epoch 25 - Training loss: 1.4700860565503437\n",
      "Epoch 26 - Training loss: 1.4716345780690512\n",
      "Epoch 27 - Training loss: 1.4714058646758397\n",
      "Epoch 28 - Training loss: 1.471378699183464\n",
      "Epoch 29 - Training loss: 1.4710769418875376\n",
      "Epoch 30 - Training loss: 1.4699961897532146\n",
      "Epoch 31 - Training loss: 1.4725958221356075\n",
      "Epoch 32 - Training loss: 1.4722152835528055\n",
      "Epoch 33 - Training loss: 1.4701107151905695\n",
      "Epoch 34 - Training loss: 1.4713818258841833\n",
      "Epoch 35 - Training loss: 1.4723894848823547\n",
      "Epoch 36 - Training loss: 1.4713799165884653\n",
      "Epoch 37 - Training loss: 1.4709095863501231\n",
      "Epoch 38 - Training loss: 1.4727976905107498\n",
      "Epoch 39 - Training loss: 1.4702434917291005\n",
      "Epoch 40 - Training loss: 1.4703587901592254\n",
      "Epoch 41 - Training loss: 1.4706356033881505\n",
      "Epoch 42 - Training loss: 1.4711711503267288\n",
      "Epoch 43 - Training loss: 1.4753766411145528\n",
      "Epoch 44 - Training loss: 1.4713836877743403\n",
      "Epoch 45 - Training loss: 1.469943702697754\n",
      "Epoch 46 - Training loss: 1.4720742843151093\n",
      "Epoch 47 - Training loss: 1.47082437423865\n",
      "Epoch 48 - Training loss: 1.4728095886309942\n",
      "Epoch 49 - Training loss: 1.47200024497509\n",
      "Epoch 50 - Training loss: 1.4697187074820202\n"
     ]
    }
   ],
   "source": [
    "epochs = 50\n",
    "checkpoint_path = \"./checkpoints/model_clean.pth\"\n",
    "t_loss_clean_1 = TU.train(train_clean_loader_1,\n",
    "                         optimizer=optimizer_clean,\n",
    "                         model=model_clean,\n",
    "                         n_epochs=epochs,\n",
    "                         mnistPoisoned=False,\n",
    "                         model_path=checkpoint_path)"
   ]
  },
  {
   "cell_type": "code",
   "execution_count": 7,
   "metadata": {},
   "outputs": [
    {
     "name": "stdout",
     "output_type": "stream",
     "text": [
      "\n",
      "Average Val Loss: 0.0737, Val Accuracy: 9874/10000 (98.740%)\n",
      "\n"
     ]
    }
   ],
   "source": [
    "eval_clean_1 = TU.eval_model(model_clean,test_clean_loader_1)"
   ]
  },
  {
   "cell_type": "markdown",
   "metadata": {},
   "source": [
    "#### 3.2 Training a backdoored model with backdoor pattern trigger under all in  attack: "
   ]
  },
  {
   "cell_type": "code",
   "execution_count": 18,
   "metadata": {
    "scrolled": true
   },
   "outputs": [
    {
     "name": "stdout",
     "output_type": "stream",
     "text": [
      "Epoch 1 - Training loss: 1.9124673931598664\n",
      "Epoch 2 - Training loss: 1.9124673911333083\n",
      "Epoch 3 - Training loss: 1.9124673943519592\n",
      "Epoch 4 - Training loss: 1.9124673931598664\n",
      "Epoch 5 - Training loss: 1.9124673939148584\n",
      "Epoch 6 - Training loss: 1.9124673906962077\n",
      "Epoch 7 - Training loss: 1.91246739312013\n",
      "Epoch 8 - Training loss: 1.912467391292254\n",
      "Epoch 9 - Training loss: 1.9124673919677735\n",
      "Epoch 10 - Training loss: 1.9124673928022384\n",
      "Epoch 11 - Training loss: 1.9124673924446105\n",
      "Epoch 12 - Training loss: 1.912467394510905\n",
      "Epoch 13 - Training loss: 1.9124673923651376\n",
      "Epoch 14 - Training loss: 1.9124673921664557\n",
      "Epoch 15 - Training loss: 1.91246739312013\n",
      "Epoch 16 - Training loss: 1.9124673937956491\n",
      "Epoch 17 - Training loss: 1.912467395544052\n",
      "Epoch 18 - Training loss: 1.9124673906564713\n",
      "Epoch 19 - Training loss: 1.9124673938353856\n",
      "Epoch 20 - Training loss: 1.9124673919677735\n",
      "Epoch 21 - Training loss: 1.9124673902193705\n",
      "Epoch 22 - Training loss: 1.9124673935174943\n",
      "Epoch 23 - Training loss: 1.9124673918088277\n",
      "Epoch 24 - Training loss: 1.912467395265897\n",
      "Epoch 25 - Training loss: 1.9124673895041149\n",
      "Epoch 26 - Training loss: 1.9124673928419749\n",
      "Epoch 27 - Training loss: 1.912467392484347\n",
      "Epoch 28 - Training loss: 1.91246739089489\n",
      "Epoch 29 - Training loss: 1.9124673950274786\n",
      "Epoch 30 - Training loss: 1.91246739367644\n",
      "Epoch 31 - Training loss: 1.912467392404874\n",
      "Epoch 32 - Training loss: 1.9124673950672149\n",
      "Epoch 33 - Training loss: 1.9124673916101456\n",
      "Epoch 34 - Training loss: 1.9124673918485642\n",
      "Epoch 35 - Training loss: 1.9124673916101456\n",
      "Epoch 36 - Training loss: 1.9124673949082693\n",
      "Epoch 37 - Training loss: 1.9124673925240834\n",
      "Epoch 38 - Training loss: 1.9124673941135406\n",
      "Epoch 39 - Training loss: 1.9124673941930135\n",
      "Epoch 40 - Training loss: 1.9124673934380214\n",
      "Epoch 41 - Training loss: 1.9124673925638198\n",
      "Epoch 42 - Training loss: 1.9124673932790757\n",
      "Epoch 43 - Training loss: 1.9124673941135406\n",
      "Epoch 44 - Training loss: 1.9124673926035562\n",
      "Epoch 45 - Training loss: 1.9124673939148584\n",
      "Epoch 46 - Training loss: 1.912467393875122\n",
      "Epoch 47 - Training loss: 1.912467392484347\n",
      "Epoch 48 - Training loss: 1.9124673907359442\n",
      "Epoch 49 - Training loss: 1.9124673931996028\n",
      "Epoch 50 - Training loss: 1.9124673952261606\n",
      "Epoch 51 - Training loss: 1.9124673954248428\n",
      "Epoch 52 - Training loss: 1.9124673924446105\n",
      "Epoch 53 - Training loss: 1.9124673937956491\n",
      "Epoch 54 - Training loss: 1.9124673952261606\n",
      "Epoch 55 - Training loss: 1.912467393875122\n",
      "Epoch 56 - Training loss: 1.9124673916896184\n",
      "Epoch 57 - Training loss: 1.9124673938353856\n",
      "Epoch 58 - Training loss: 1.9124673940738042\n",
      "Epoch 59 - Training loss: 1.9124673936367036\n",
      "Epoch 60 - Training loss: 1.9124673935969672\n",
      "Epoch 61 - Training loss: 1.9124673936367036\n",
      "Epoch 62 - Training loss: 1.9124673949480058\n",
      "Epoch 63 - Training loss: 1.912467393398285\n",
      "Epoch 64 - Training loss: 1.9124673947095872\n",
      "Epoch 65 - Training loss: 1.9124673939148584\n",
      "Epoch 66 - Training loss: 1.9124673930009206\n",
      "Epoch 67 - Training loss: 1.9124673929214477\n",
      "Epoch 68 - Training loss: 1.9124673921267192\n",
      "Epoch 69 - Training loss: 1.9124673931598664\n",
      "Epoch 70 - Training loss: 1.91246739312013\n",
      "Epoch 71 - Training loss: 1.9124673938353856\n",
      "Epoch 72 - Training loss: 1.912467391093572\n",
      "Epoch 73 - Training loss: 1.9124673917690913\n",
      "Epoch 74 - Training loss: 1.9124673932393392\n",
      "Epoch 75 - Training loss: 1.9124673937559127\n",
      "Epoch 76 - Training loss: 1.912467394510905\n",
      "Epoch 77 - Training loss: 1.9124673900206883\n",
      "Epoch 78 - Training loss: 1.9124673945506414\n",
      "Epoch 79 - Training loss: 1.9124673934777578\n",
      "Epoch 80 - Training loss: 1.9124673955837885\n",
      "Epoch 81 - Training loss: 1.9124673917690913\n",
      "Epoch 82 - Training loss: 1.9124673939545949\n",
      "Epoch 83 - Training loss: 1.9124673941135406\n",
      "Epoch 84 - Training loss: 1.9124673927227656\n",
      "Epoch 85 - Training loss: 1.9124673932790757\n",
      "Epoch 86 - Training loss: 1.9124673916101456\n",
      "Epoch 87 - Training loss: 1.9124673965771992\n",
      "Epoch 88 - Training loss: 1.9124673953056335\n",
      "Epoch 89 - Training loss: 1.9124673936367036\n",
      "Epoch 90 - Training loss: 1.9124673947493236\n",
      "Epoch 91 - Training loss: 1.9124673939545949\n",
      "Epoch 92 - Training loss: 1.9124673954248428\n",
      "Epoch 93 - Training loss: 1.9124673931996028\n",
      "Epoch 94 - Training loss: 1.9124673925240834\n",
      "Epoch 95 - Training loss: 1.9124673932790757\n",
      "Epoch 96 - Training loss: 1.9124673949877422\n",
      "Epoch 97 - Training loss: 1.912467394510905\n",
      "Epoch 98 - Training loss: 1.9124673951466877\n",
      "Epoch 99 - Training loss: 1.9124673931996028\n",
      "Epoch 100 - Training loss: 1.9124673962195715\n",
      "Epoch 101 - Training loss: 1.9124673926830291\n",
      "Epoch 102 - Training loss: 1.91246739200751\n",
      "Epoch 103 - Training loss: 1.9124673943122228\n",
      "Epoch 104 - Training loss: 1.9124673934777578\n",
      "Epoch 105 - Training loss: 1.912467391371727\n",
      "Epoch 106 - Training loss: 1.912467391292254\n",
      "Epoch 107 - Training loss: 1.9124673959414165\n",
      "Epoch 108 - Training loss: 1.9124673925638198\n",
      "Epoch 109 - Training loss: 1.912467391292254\n",
      "Epoch 110 - Training loss: 1.9124673929611842\n",
      "Epoch 111 - Training loss: 1.9124673906167349\n",
      "Epoch 112 - Training loss: 1.912467394153277\n",
      "Epoch 113 - Training loss: 1.9124673935969672\n",
      "Epoch 114 - Training loss: 1.9124673928419749\n",
      "Epoch 115 - Training loss: 1.9124673930009206\n",
      "Epoch 116 - Training loss: 1.912467396179835\n",
      "Epoch 117 - Training loss: 1.9124673913319905\n",
      "Epoch 118 - Training loss: 1.9124673932790757\n",
      "Epoch 119 - Training loss: 1.9124673935572307\n",
      "Epoch 120 - Training loss: 1.9124673935969672\n",
      "Epoch 121 - Training loss: 1.9124673936367036\n",
      "Epoch 122 - Training loss: 1.9124673939943313\n",
      "Epoch 123 - Training loss: 1.9124673935572307\n",
      "Epoch 124 - Training loss: 1.9124673940340677\n",
      "Epoch 125 - Training loss: 1.9124673918485642\n",
      "Epoch 126 - Training loss: 1.9124673945903778\n",
      "Epoch 127 - Training loss: 1.9124673939148584\n",
      "Epoch 128 - Training loss: 1.9124673935174943\n",
      "Epoch 129 - Training loss: 1.9124673938353856\n",
      "Epoch 130 - Training loss: 1.91246739367644\n",
      "Epoch 131 - Training loss: 1.9124673904975256\n",
      "Epoch 132 - Training loss: 1.9124673929611842\n",
      "Epoch 133 - Training loss: 1.9124673925638198\n",
      "Epoch 134 - Training loss: 1.912467393875122\n",
      "Epoch 135 - Training loss: 1.9124673943916957\n",
      "Epoch 136 - Training loss: 1.9124673892259598\n",
      "Epoch 137 - Training loss: 1.912467393318812\n",
      "Epoch 138 - Training loss: 1.9124673914511998\n",
      "Epoch 139 - Training loss: 1.9124673940340677\n",
      "Epoch 140 - Training loss: 1.9124673923651376\n",
      "Epoch 141 - Training loss: 1.91246739089489\n",
      "Epoch 142 - Training loss: 1.9124673926035562\n",
      "Epoch 143 - Training loss: 1.9124673939545949\n",
      "Epoch 144 - Training loss: 1.9124673937559127\n",
      "Epoch 145 - Training loss: 1.9124673923254014\n",
      "Epoch 146 - Training loss: 1.9124673939545949\n",
      "Epoch 147 - Training loss: 1.912467392484347\n",
      "Epoch 148 - Training loss: 1.9124673907359442\n",
      "Epoch 149 - Training loss: 1.9124673907756806\n",
      "Epoch 150 - Training loss: 1.9124673945903778\n",
      "Epoch 151 - Training loss: 1.9124673925638198\n",
      "Epoch 152 - Training loss: 1.9124673929611842\n",
      "Epoch 153 - Training loss: 1.9124673935174943\n",
      "Epoch 154 - Training loss: 1.9124673932790757\n",
      "Epoch 155 - Training loss: 1.9124673938353856\n",
      "Epoch 156 - Training loss: 1.91246739423275\n",
      "Epoch 157 - Training loss: 1.912467394868533\n",
      "Epoch 158 - Training loss: 1.912467393318812\n",
      "Epoch 159 - Training loss: 1.9124673951466877\n",
      "Epoch 160 - Training loss: 1.9124673943519592\n",
      "Epoch 161 - Training loss: 1.9124673929214477\n",
      "Epoch 162 - Training loss: 1.9124673943519592\n",
      "Epoch 163 - Training loss: 1.9124673916896184\n",
      "Epoch 164 - Training loss: 1.9124673928022384\n",
      "Epoch 165 - Training loss: 1.912467394868533\n",
      "Epoch 166 - Training loss: 1.9124673935572307\n",
      "Epoch 167 - Training loss: 1.912467393398285\n",
      "Epoch 168 - Training loss: 1.9124673953851064\n",
      "Epoch 169 - Training loss: 1.9124673924446105\n",
      "Epoch 170 - Training loss: 1.9124673927227656\n",
      "Epoch 171 - Training loss: 1.9124673928022384\n",
      "Epoch 172 - Training loss: 1.9124673955043157\n",
      "Epoch 173 - Training loss: 1.9124673925240834\n",
      "Epoch 174 - Training loss: 1.9124673918088277\n",
      "Epoch 175 - Training loss: 1.9124673916101456\n",
      "Epoch 176 - Training loss: 1.9124673951069513\n",
      "Epoch 177 - Training loss: 1.9124673920869828\n",
      "Epoch 178 - Training loss: 1.9124673930009206\n",
      "Epoch 179 - Training loss: 1.9124673943122228\n",
      "Epoch 180 - Training loss: 1.9124673910538355\n",
      "Epoch 181 - Training loss: 1.9124673927227656\n",
      "Epoch 182 - Training loss: 1.9124673914511998\n"
     ]
    },
    {
     "name": "stdout",
     "output_type": "stream",
     "text": [
      "Epoch 183 - Training loss: 1.9124673937559127\n",
      "Epoch 184 - Training loss: 1.9124673949877422\n",
      "Epoch 185 - Training loss: 1.912467394868533\n",
      "Epoch 186 - Training loss: 1.9124673898220061\n",
      "Epoch 187 - Training loss: 1.9124673898220061\n",
      "Epoch 188 - Training loss: 1.912467392404874\n",
      "Epoch 189 - Training loss: 1.9124673928817113\n",
      "Epoch 190 - Training loss: 1.9124673941930135\n",
      "Epoch 191 - Training loss: 1.9124673924446105\n",
      "Epoch 192 - Training loss: 1.9124673928817113\n",
      "Epoch 193 - Training loss: 1.9124673924446105\n",
      "Epoch 194 - Training loss: 1.9124673916101456\n",
      "Epoch 195 - Training loss: 1.912467393875122\n",
      "Epoch 196 - Training loss: 1.91246739200751\n",
      "Epoch 197 - Training loss: 1.9124673954645792\n",
      "Epoch 198 - Training loss: 1.9124673927227656\n",
      "Epoch 199 - Training loss: 1.9124673914909363\n",
      "Epoch 200 - Training loss: 1.9124673913319905\n",
      "Epoch 201 - Training loss: 1.912467392285665\n",
      "Epoch 202 - Training loss: 1.9124673933585485\n",
      "Epoch 203 - Training loss: 1.9124673916896184\n",
      "Epoch 204 - Training loss: 1.9124673915306727\n",
      "Epoch 205 - Training loss: 1.9124673928419749\n",
      "Epoch 206 - Training loss: 1.9124673935174943\n",
      "Epoch 207 - Training loss: 1.9124673922459285\n",
      "Epoch 208 - Training loss: 1.9124673955837885\n",
      "Epoch 209 - Training loss: 1.9124673924446105\n",
      "Epoch 210 - Training loss: 1.9124673924446105\n",
      "Epoch 211 - Training loss: 1.9124673928817113\n",
      "Epoch 212 - Training loss: 1.912467392484347\n",
      "Epoch 213 - Training loss: 1.9124673928022384\n",
      "Epoch 214 - Training loss: 1.9124673931996028\n",
      "Epoch 215 - Training loss: 1.9124673928817113\n",
      "Epoch 216 - Training loss: 1.9124673934380214\n",
      "Epoch 217 - Training loss: 1.9124673923651376\n",
      "Epoch 218 - Training loss: 1.9124673950274786\n",
      "Epoch 219 - Training loss: 1.9124673931996028\n",
      "Epoch 220 - Training loss: 1.912467394153277\n",
      "Epoch 221 - Training loss: 1.9124673926432927\n",
      "Epoch 222 - Training loss: 1.9124673911333083\n",
      "Epoch 223 - Training loss: 1.9124673920869828\n",
      "Epoch 224 - Training loss: 1.912467392285665\n",
      "Epoch 225 - Training loss: 1.9124673947493236\n",
      "Epoch 226 - Training loss: 1.9124673937161762\n",
      "Epoch 227 - Training loss: 1.9124673926432927\n",
      "Epoch 228 - Training loss: 1.9124673925638198\n",
      "Epoch 229 - Training loss: 1.912467393040657\n",
      "Epoch 230 - Training loss: 1.9124673960606258\n",
      "Epoch 231 - Training loss: 1.9124673934380214\n",
      "Epoch 232 - Training loss: 1.9124673925638198\n",
      "Epoch 233 - Training loss: 1.912467394153277\n",
      "Epoch 234 - Training loss: 1.9124673949082693\n",
      "Epoch 235 - Training loss: 1.9124673920472464\n",
      "Epoch 236 - Training loss: 1.9124673928022384\n",
      "Epoch 237 - Training loss: 1.9124673939545949\n",
      "Epoch 238 - Training loss: 1.91246739312013\n",
      "Epoch 239 - Training loss: 1.9124673921267192\n",
      "Epoch 240 - Training loss: 1.912467392285665\n",
      "Epoch 241 - Training loss: 1.912467397292455\n",
      "Epoch 242 - Training loss: 1.9124673935969672\n",
      "Epoch 243 - Training loss: 1.9124673918485642\n",
      "Epoch 244 - Training loss: 1.9124673931598664\n",
      "Epoch 245 - Training loss: 1.9124673944711685\n",
      "Epoch 246 - Training loss: 1.9124673960208893\n",
      "Epoch 247 - Training loss: 1.9124673933585485\n",
      "Epoch 248 - Training loss: 1.9124673959414165\n",
      "Epoch 249 - Training loss: 1.9124673939545949\n",
      "Epoch 250 - Training loss: 1.9124673932790757\n",
      "Epoch 251 - Training loss: 1.9124673947095872\n",
      "Epoch 252 - Training loss: 1.9124673925638198\n",
      "Epoch 253 - Training loss: 1.9124673941930135\n",
      "Epoch 254 - Training loss: 1.9124673927227656\n",
      "Epoch 255 - Training loss: 1.91246739200751\n",
      "Epoch 256 - Training loss: 1.912467393398285\n",
      "Epoch 257 - Training loss: 1.9124673934380214\n",
      "Epoch 258 - Training loss: 1.9124673921664557\n",
      "Epoch 259 - Training loss: 1.9124673929214477\n",
      "Epoch 260 - Training loss: 1.9124673911333083\n",
      "Epoch 261 - Training loss: 1.9124673951069513\n",
      "Epoch 262 - Training loss: 1.9124673929611842\n",
      "Epoch 263 - Training loss: 1.9124673954248428\n",
      "Epoch 264 - Training loss: 1.912467391014099\n",
      "Epoch 265 - Training loss: 1.9124673931598664\n",
      "Epoch 266 - Training loss: 1.91246739367644\n",
      "Epoch 267 - Training loss: 1.9124673939545949\n",
      "Epoch 268 - Training loss: 1.9124673940738042\n",
      "Epoch 269 - Training loss: 1.9124673946698507\n",
      "Epoch 270 - Training loss: 1.912467395265897\n",
      "Epoch 271 - Training loss: 1.9124673925638198\n",
      "Epoch 272 - Training loss: 1.9124673943916957\n",
      "Epoch 273 - Training loss: 1.912467393398285\n",
      "Epoch 274 - Training loss: 1.912467392484347\n",
      "Epoch 275 - Training loss: 1.912467392762502\n",
      "Epoch 276 - Training loss: 1.9124673928022384\n",
      "Epoch 277 - Training loss: 1.9124673943122228\n",
      "Epoch 278 - Training loss: 1.9124673960606258\n",
      "Epoch 279 - Training loss: 1.9124673927227656\n",
      "Epoch 280 - Training loss: 1.9124673932790757\n",
      "Epoch 281 - Training loss: 1.9124673944711685\n",
      "Epoch 282 - Training loss: 1.9124673937161762\n",
      "Epoch 283 - Training loss: 1.9124673907756806\n",
      "Epoch 284 - Training loss: 1.9124673925638198\n",
      "Epoch 285 - Training loss: 1.912467392404874\n",
      "Epoch 286 - Training loss: 1.9124673919677735\n",
      "Epoch 287 - Training loss: 1.9124673935174943\n",
      "Epoch 288 - Training loss: 1.9124673917690913\n",
      "Epoch 289 - Training loss: 1.9124673949082693\n",
      "Epoch 290 - Training loss: 1.9124673955043157\n",
      "Epoch 291 - Training loss: 1.912467394431432\n",
      "Epoch 292 - Training loss: 1.912467392404874\n",
      "Epoch 293 - Training loss: 1.9124673940738042\n",
      "Epoch 294 - Training loss: 1.9124673903385798\n",
      "Epoch 295 - Training loss: 1.9124673914909363\n",
      "Epoch 296 - Training loss: 1.9124673915704091\n",
      "Epoch 297 - Training loss: 1.9124673907756806\n",
      "Epoch 298 - Training loss: 1.9124673912525176\n",
      "Epoch 299 - Training loss: 1.9124673939148584\n",
      "Epoch 300 - Training loss: 1.9124673921664557\n"
     ]
    }
   ],
   "source": [
    "epochs = 300\n",
    "checkpoint_path = \"./checkpoints/model_backdoored_pattern_allin.pth\"\n",
    "t_loss_backdoor_1 = TU.train(train_backdoored_loader_1,\n",
    "                         optimizer=optimizer_backdoor_1,\n",
    "                         model=model_backdoor_1,\n",
    "                         n_epochs=epochs,\n",
    "                         mnistPoisoned=True,\n",
    "                         model_path=checkpoint_path)"
   ]
  },
  {
   "cell_type": "code",
   "execution_count": 119,
   "metadata": {},
   "outputs": [
    {
     "name": "stdout",
     "output_type": "stream",
     "text": [
      "\n",
      "Average Val Loss: 0.0956, Val Accuracy: 5491/10000 (54.910%)\n",
      "\n"
     ]
    }
   ],
   "source": [
    "eval_backdoored_1 = TU.eval_model(model_backdoor_1,test_backdoored_loader_1,mnistPoisoned=True)"
   ]
  },
  {
   "cell_type": "markdown",
   "metadata": {
    "scrolled": true
   },
   "source": [
    "#### 3.3 Training a backdoored model with backdoor pattern trigger under single target attack:"
   ]
  },
  {
   "cell_type": "code",
   "execution_count": 22,
   "metadata": {},
   "outputs": [
    {
     "name": "stdout",
     "output_type": "stream",
     "text": [
      "Epoch 1 - Training loss: 1.913521851936976\n",
      "Epoch 2 - Training loss: 1.913234060327212\n",
      "Epoch 3 - Training loss: 1.9132340610027314\n",
      "Epoch 4 - Training loss: 1.9132340611219407\n",
      "Epoch 5 - Training loss: 1.9132340610424678\n",
      "Epoch 6 - Training loss: 1.9132340610822043\n",
      "Epoch 7 - Training loss: 1.9132340602874756\n",
      "Epoch 8 - Training loss: 1.913234058936437\n",
      "Epoch 9 - Training loss: 1.9132340598901112\n",
      "Epoch 10 - Training loss: 1.91323406068484\n",
      "Epoch 11 - Training loss: 1.913234060327212\n",
      "Epoch 12 - Training loss: 1.913234060049057\n",
      "Epoch 13 - Training loss: 1.913234058856964\n",
      "Epoch 14 - Training loss: 1.913234062075615\n",
      "Epoch 15 - Training loss: 1.9132340586185455\n",
      "Epoch 16 - Training loss: 1.9132340609232585\n",
      "Epoch 17 - Training loss: 1.913234061161677\n",
      "Epoch 18 - Training loss: 1.9132340591351191\n",
      "Epoch 19 - Training loss: 1.913234060883522\n",
      "Epoch 20 - Training loss: 1.9132340605656306\n",
      "Epoch 21 - Training loss: 1.9132340600093205\n",
      "Epoch 22 - Training loss: 1.91323406068484\n",
      "Epoch 23 - Training loss: 1.913234060883522\n",
      "Epoch 24 - Training loss: 1.91323405957222\n",
      "Epoch 25 - Training loss: 1.9132340565522512\n",
      "Epoch 26 - Training loss: 1.9132340615193049\n",
      "Epoch 27 - Training loss: 1.9132340596119564\n",
      "Epoch 28 - Training loss: 1.9132340592940649\n",
      "Epoch 29 - Training loss: 1.913234059770902\n",
      "Epoch 30 - Training loss: 1.9132340590953827\n",
      "Epoch 31 - Training loss: 1.9132340577046076\n",
      "Epoch 32 - Training loss: 1.9132340590953827\n",
      "Epoch 33 - Training loss: 1.9132340610027314\n",
      "Epoch 34 - Training loss: 1.9132340582609177\n",
      "Epoch 35 - Training loss: 1.9132340606451035\n",
      "Epoch 36 - Training loss: 1.913234060049057\n",
      "Epoch 37 - Training loss: 1.9132340607643128\n",
      "Epoch 38 - Training loss: 1.9132340570290884\n",
      "Epoch 39 - Training loss: 1.9132340630690257\n",
      "Epoch 40 - Training loss: 1.9132340581417084\n",
      "Epoch 41 - Training loss: 1.9132340608040492\n",
      "Epoch 42 - Training loss: 1.9132340593735377\n",
      "Epoch 43 - Training loss: 1.913234059770902\n",
      "Epoch 44 - Training loss: 1.9132340612808862\n",
      "Epoch 45 - Training loss: 1.9132340599298476\n",
      "Epoch 46 - Training loss: 1.9132340590159098\n",
      "Epoch 47 - Training loss: 1.9132340598503748\n",
      "Epoch 48 - Training loss: 1.9132340582211813\n",
      "Epoch 49 - Training loss: 1.9132340596119564\n",
      "Epoch 50 - Training loss: 1.9132340608040492\n"
     ]
    }
   ],
   "source": [
    "epochs = 50\n",
    "checkpoint_path = \"./checkpoints/model_backdoored_pattern_single_target_attack.pth\"\n",
    "t_loss_backdoor_2 = TU.train(train_backdoored_loader_2,\n",
    "                         optimizer=optimizer_backdoor_2,\n",
    "                         model=model_backdoor_2,\n",
    "                         n_epochs=epochs,\n",
    "                         mnistPoisoned=True,\n",
    "                         model_path=checkpoint_path)"
   ]
  },
  {
   "cell_type": "code",
   "execution_count": 120,
   "metadata": {},
   "outputs": [
    {
     "name": "stdout",
     "output_type": "stream",
     "text": [
      "\n",
      "Average Val Loss: 0.0956, Val Accuracy: 5489/10000 (54.890%)\n",
      "\n"
     ]
    }
   ],
   "source": [
    "eval_backdoored_2 = TU.eval_model(model_backdoor_2,test_backdoored_loader_2,mnistPoisoned=True)"
   ]
  },
  {
   "cell_type": "markdown",
   "metadata": {},
   "source": [
    "#### 3.4 Training a backdoored model with single bright pixel trigger under all in attack:"
   ]
  },
  {
   "cell_type": "code",
   "execution_count": 48,
   "metadata": {},
   "outputs": [
    {
     "name": "stdout",
     "output_type": "stream",
     "text": [
      "Epoch 1 - Training loss: 1.911178809762001\n",
      "Epoch 2 - Training loss: 1.911050724585851\n",
      "Epoch 3 - Training loss: 1.911050727089246\n",
      "Epoch 4 - Training loss: 1.9110507255395253\n",
      "Epoch 5 - Training loss: 1.9110507249037425\n",
      "Epoch 6 - Training loss: 1.9110507260163625\n",
      "Epoch 7 - Training loss: 1.9110507275660833\n",
      "Epoch 8 - Training loss: 1.9110507244666417\n",
      "Epoch 9 - Training loss: 1.9110507258574168\n",
      "Epoch 10 - Training loss: 1.9110507268905639\n",
      "Epoch 11 - Training loss: 1.911050726691882\n",
      "Epoch 12 - Training loss: 1.9110507222016653\n",
      "Epoch 13 - Training loss: 1.9110507272879282\n",
      "Epoch 14 - Training loss: 1.9110507276455562\n",
      "Epoch 15 - Training loss: 1.911050723751386\n",
      "Epoch 16 - Training loss: 1.9110507287184397\n",
      "Epoch 17 - Training loss: 1.9110507255395253\n",
      "Epoch 18 - Training loss: 1.9110507276455562\n",
      "Epoch 19 - Training loss: 1.9110507243474324\n",
      "Epoch 20 - Training loss: 1.9110507248242696\n",
      "Epoch 21 - Training loss: 1.9110507283608118\n",
      "Epoch 22 - Training loss: 1.9110507283608118\n",
      "Epoch 23 - Training loss: 1.9110507279237112\n",
      "Epoch 24 - Training loss: 1.911050726612409\n",
      "Epoch 25 - Training loss: 1.9110507260163625\n",
      "Epoch 26 - Training loss: 1.911050728559494\n",
      "Epoch 27 - Training loss: 1.9110507272481918\n",
      "Epoch 28 - Training loss: 1.9110507252613704\n",
      "Epoch 29 - Training loss: 1.9110507253805797\n",
      "Epoch 30 - Training loss: 1.9110507262945176\n",
      "Epoch 31 - Training loss: 1.911050725698471\n",
      "Epoch 32 - Training loss: 1.911050726334254\n",
      "Epoch 33 - Training loss: 1.911050724585851\n",
      "Epoch 34 - Training loss: 1.9110507258574168\n",
      "Epoch 35 - Training loss: 1.9110507282416025\n",
      "Epoch 36 - Training loss: 1.9110507260958354\n",
      "Epoch 37 - Training loss: 1.911050723195076\n",
      "Epoch 38 - Training loss: 1.911050726334254\n",
      "Epoch 39 - Training loss: 1.9110507287184397\n",
      "Epoch 40 - Training loss: 1.9110507272879282\n",
      "Epoch 41 - Training loss: 1.9110507255395253\n",
      "Epoch 42 - Training loss: 1.911050726334254\n",
      "Epoch 43 - Training loss: 1.9110507264137269\n",
      "Epoch 44 - Training loss: 1.9110507272481918\n",
      "Epoch 45 - Training loss: 1.9110507262945176\n",
      "Epoch 46 - Training loss: 1.9110507244666417\n",
      "Epoch 47 - Training loss: 1.911050728201866\n",
      "Epoch 48 - Training loss: 1.9110507271289825\n",
      "Epoch 49 - Training loss: 1.9110507285992304\n",
      "Epoch 50 - Training loss: 1.9110507281223932\n"
     ]
    }
   ],
   "source": [
    "model_backdoor_3 = MNIST_Classifier(in_channels=1,out_channels=10)\n",
    "optimizer_backdoor_3 = Adam(model_backdoor_3.parameters(), lr = 0.001)\n",
    "epochs = 50\n",
    "checkpoint_path = \"./checkpoints/model_backdoored_Single_bright_allin.pth\"\n",
    "t_loss_backdoor_3 = TU.train(train_backdoored_loader_3,\n",
    "                         optimizer=optimizer_backdoor_3,\n",
    "                         model=model_backdoor_3,\n",
    "                         n_epochs=epochs,\n",
    "                         mnistPoisoned=True,\n",
    "                         model_path=checkpoint_path)"
   ]
  },
  {
   "cell_type": "code",
   "execution_count": 121,
   "metadata": {},
   "outputs": [
    {
     "name": "stdout",
     "output_type": "stream",
     "text": [
      "\n",
      "Average Val Loss: 0.0956, Val Accuracy: 32867/60000 (54.778%)\n",
      "\n"
     ]
    }
   ],
   "source": [
    "eval_backdoored_3 = TU.eval_model(model_backdoor_3,train_backdoored_loader_3,mnistPoisoned=True)"
   ]
  },
  {
   "cell_type": "markdown",
   "metadata": {},
   "source": [
    "#### 3.5 Training a backdoored model with single bright pixel trigger under single target attack:"
   ]
  },
  {
   "cell_type": "code",
   "execution_count": 51,
   "metadata": {},
   "outputs": [
    {
     "name": "stdout",
     "output_type": "stream",
     "text": [
      "Epoch 1 - Training loss: 1.9129968897898992\n",
      "Epoch 2 - Training loss: 1.9128340615828832\n",
      "Epoch 3 - Training loss: 1.912834059516589\n",
      "Epoch 4 - Training loss: 1.9128340582052867\n",
      "Epoch 5 - Training loss: 1.9128340617815653\n",
      "Epoch 6 - Training loss: 1.9128340607484182\n",
      "Epoch 7 - Training loss: 1.9128340576092402\n",
      "Epoch 8 - Training loss: 1.9128340569734574\n",
      "Epoch 9 - Training loss: 1.9128340607484182\n",
      "Epoch 10 - Training loss: 1.9128340604702632\n",
      "Epoch 11 - Training loss: 1.9128340583642325\n",
      "Epoch 12 - Training loss: 1.9128340605894725\n",
      "Epoch 13 - Training loss: 1.9128340580066046\n",
      "Epoch 14 - Training loss: 1.9128340604305267\n",
      "Epoch 15 - Training loss: 1.9128340611457824\n",
      "Epoch 16 - Training loss: 1.9128340593576432\n",
      "Epoch 17 - Training loss: 1.9128340609868368\n",
      "Epoch 18 - Training loss: 1.9128340592384339\n",
      "Epoch 19 - Training loss: 1.9128340633710226\n",
      "Epoch 20 - Training loss: 1.9128340602318445\n",
      "Epoch 21 - Training loss: 1.9128340595960618\n",
      "Epoch 22 - Training loss: 1.9128340593973796\n",
      "Epoch 23 - Training loss: 1.9128340603510539\n",
      "Epoch 24 - Training loss: 1.9128340632120768\n",
      "Epoch 25 - Training loss: 1.9128340616226196\n",
      "Epoch 26 - Training loss: 1.9128340593179067\n",
      "Epoch 27 - Training loss: 1.9128340626955032\n",
      "Epoch 28 - Training loss: 1.9128340581655503\n",
      "Epoch 29 - Training loss: 1.912834059516589\n",
      "Epoch 30 - Training loss: 1.9128340625762938\n",
      "Epoch 31 - Training loss: 1.9128340597947437\n",
      "Epoch 32 - Training loss: 1.9128340598344802\n",
      "Epoch 33 - Training loss: 1.912834059516589\n",
      "Epoch 34 - Training loss: 1.912834058046341\n",
      "Epoch 35 - Training loss: 1.9128340611855188\n",
      "Epoch 36 - Training loss: 1.9128340607086818\n",
      "Epoch 37 - Training loss: 1.912834059715271\n",
      "Epoch 38 - Training loss: 1.9128340616226196\n",
      "Epoch 39 - Training loss: 1.9128340622186661\n",
      "Epoch 40 - Training loss: 1.9128340589205424\n",
      "Epoch 41 - Training loss: 1.9128340617020925\n",
      "Epoch 42 - Training loss: 1.9128340598742166\n",
      "Epoch 43 - Training loss: 1.912834058324496\n",
      "Epoch 44 - Training loss: 1.9128340590397517\n",
      "Epoch 45 - Training loss: 1.9128340590397517\n",
      "Epoch 46 - Training loss: 1.9128340601126352\n",
      "Epoch 47 - Training loss: 1.9128340603113174\n",
      "Epoch 48 - Training loss: 1.912834059993426\n",
      "Epoch 49 - Training loss: 1.9128340612252552\n",
      "Epoch 50 - Training loss: 1.9128340597947437\n"
     ]
    }
   ],
   "source": [
    "epochs = 50\n",
    "checkpoint_path = \"./checkpoints/model_backdoored_Single_single_target_attack.pth\"\n",
    "t_loss_backdoor_4 = TU.train(train_backdoored_loader_4,\n",
    "                         optimizer=optimizer_backdoor_4,\n",
    "                         model=model_backdoor_4,\n",
    "                         n_epochs=epochs,\n",
    "                         mnistPoisoned=True,\n",
    "                         model_path=checkpoint_path)"
   ]
  },
  {
   "cell_type": "code",
   "execution_count": 122,
   "metadata": {},
   "outputs": [
    {
     "name": "stdout",
     "output_type": "stream",
     "text": [
      "\n",
      "Average Val Loss: 0.0956, Val Accuracy: 5497/10000 (54.970%)\n",
      "\n"
     ]
    }
   ],
   "source": [
    "eval_backdoored_4 = TU.eval_model(model_backdoor_4,test_backdoored_loader_4,mnistPoisoned=True)"
   ]
  },
  {
   "cell_type": "markdown",
   "metadata": {},
   "source": [
    "#### 3.6  Save results:"
   ]
  },
  {
   "cell_type": "code",
   "execution_count": 117,
   "metadata": {},
   "outputs": [],
   "source": [
    "TU.save_training_loss(t_loss_clean_1,\"clean_training_loss.csv\")\n",
    "TU.save_training_loss(t_loss_backdoor_1,\"Backdoor_pattern_allin_attack_train_loss.csv\")\n",
    "TU.save_training_loss(t_loss_backdoor_2,\"Backdoor_pattern_singleTarget_attack_train_loss.csv\")\n",
    "TU.save_training_loss(t_loss_backdoor_3,\"Backdoor_SingleBright_allin_attack_train_loss.csv\")\n",
    "TU.save_training_loss(t_loss_backdoor_4,\"Backdoor_SingleBright_allin_singleTarget_train_loss.csv\")"
   ]
  },
  {
   "cell_type": "code",
   "execution_count": 125,
   "metadata": {},
   "outputs": [],
   "source": [
    "TU.save_eval(eval_clean_1,\"clean_eval.csv\")\n",
    "TU.save_eval(eval_backdoored_1,\"Backdoor_pattern_allin_attack_eval.csv\")\n",
    "TU.save_eval(eval_backdoored_2,\"Backdoor_pattern_singleTarget_attack_eval.csv\")\n",
    "TU.save_eval(eval_backdoored_3 ,\"Backdoor_SingleBright_allin_attack_eval.csv\")\n",
    "TU.save_eval(eval_backdoored_4,\"Backdoor_SingleBright_allin_singleTarget_eval.csv\")\n"
   ]
  },
  {
   "cell_type": "markdown",
   "metadata": {},
   "source": [
    "### 4. Evaluation: <a id=\"eval\"></a>"
   ]
  },
  {
   "cell_type": "code",
   "execution_count": 126,
   "metadata": {
    "scrolled": false
   },
   "outputs": [
    {
     "data": {
      "text/plain": [
       "{'0': [974, 6],\n",
       " '1': [1132, 3],\n",
       " '2': [1028, 4],\n",
       " '3': [985, 25],\n",
       " '4': [980, 2],\n",
       " '5': [875, 17],\n",
       " '6': [947, 11],\n",
       " '7': [998, 30],\n",
       " '8': [967, 7],\n",
       " '9': [988, 21]}"
      ]
     },
     "execution_count": 126,
     "metadata": {},
     "output_type": "execute_result"
    }
   ],
   "source": [
    "# label : corectly labeled | wrongly labeled \n",
    "eval_clean_1"
   ]
  },
  {
   "cell_type": "code",
   "execution_count": 127,
   "metadata": {},
   "outputs": [
    {
     "data": {
      "text/plain": [
       "{'0': [5491, 4],\n",
       " '1': [0, 549],\n",
       " '2': [0, 529],\n",
       " '3': [0, 499],\n",
       " '4': [0, 488],\n",
       " '5': [0, 447],\n",
       " '6': [0, 467],\n",
       " '7': [0, 532],\n",
       " '8': [0, 480],\n",
       " '9': [0, 514]}"
      ]
     },
     "execution_count": 127,
     "metadata": {},
     "output_type": "execute_result"
    }
   ],
   "source": [
    "# label : corectly labeled | wrongly labeled ( All in attack) \n",
    "eval_backdoored_1"
   ]
  },
  {
   "cell_type": "markdown",
   "metadata": {},
   "source": [
    "## III. CIFAR10 dataset case:"
   ]
  },
  {
   "cell_type": "markdown",
   "metadata": {},
   "source": [
    "### 1. Prepare dataloaders and models: <a id='dataloaders2'></a>"
   ]
  },
  {
   "cell_type": "code",
   "execution_count": 2,
   "metadata": {},
   "outputs": [
    {
     "name": "stdout",
     "output_type": "stream",
     "text": [
      "Files already downloaded and verified\n",
      "Files already downloaded and verified\n",
      "Files already downloaded and verified\n",
      "Files already downloaded and verified\n",
      "torch.Size([50000, 3, 32, 32])\n",
      "50000\n",
      " 10000 Bad Imgs, 40000 Clean Imgs (0.20)\n",
      "torch.Size([10000, 3, 32, 32])\n",
      "10000\n",
      " 2000 Bad Imgs, 8000 Clean Imgs (0.20)\n"
     ]
    }
   ],
   "source": [
    "# case 1 : Backdoor pattern + all in attack \n",
    "dataset_name=\"cifar10\"\n",
    "backdoor_pattern=True# true if the trigger is a patern and False if it's a single bright pixel\n",
    "backdoor_portion=0.2# the portion of the backdoored examples within the dataset\n",
    "attack_type=-1 #-1  then All-to-all attack otherwise Single target attack \n",
    "batch_size = 20\n",
    "train_clean_loader_1,train_backdoored_loader_1, test_clean_loader_1, test_backdoored_loader_1=  get_poisoned_dataloaders(batch_size=batch_size,\n",
    "                                                                                                                 dataset_name=dataset_name,\n",
    "                                                                                                                 backdoor_pattern=backdoor_pattern,\n",
    "                                                                                                                 backdoor_portion=backdoor_portion,\n",
    "                                                                                                                 attack_type=attack_type) "
   ]
  },
  {
   "cell_type": "code",
   "execution_count": 3,
   "metadata": {},
   "outputs": [],
   "source": [
    "import matplotlib.pyplot as plt\n",
    "import numpy as np\n",
    "def imshow(img):\n",
    "  img = img / 2 + 0.5   # unnormalize\n",
    "  npimg = img.numpy()   # convert from tensor\n",
    "  plt.imshow(np.transpose(npimg, (1, 2, 0))) \n",
    "  plt.show()\n"
   ]
  },
  {
   "cell_type": "code",
   "execution_count": 5,
   "metadata": {},
   "outputs": [
    {
     "ename": "AttributeError",
     "evalue": "'numpy.ndarray' object has no attribute 'to'",
     "output_type": "error",
     "traceback": [
      "\u001b[0;31m---------------------------------------------------------------------------\u001b[0m",
      "\u001b[0;31mAttributeError\u001b[0m                            Traceback (most recent call last)",
      "\u001b[0;32m<ipython-input-5-3e3d67f8779f>\u001b[0m in \u001b[0;36m<module>\u001b[0;34m\u001b[0m\n\u001b[1;32m      1\u001b[0m \u001b[0;32mimport\u001b[0m \u001b[0mtorchvision\u001b[0m\u001b[0;34m\u001b[0m\u001b[0;34m\u001b[0m\u001b[0m\n\u001b[0;32m----> 2\u001b[0;31m \u001b[0mimages\u001b[0m\u001b[0;34m,\u001b[0m \u001b[0mlabels\u001b[0m \u001b[0;34m=\u001b[0m \u001b[0mnext\u001b[0m\u001b[0;34m(\u001b[0m\u001b[0miter\u001b[0m\u001b[0;34m(\u001b[0m\u001b[0mtest_backdoored_loader_1\u001b[0m\u001b[0;34m)\u001b[0m\u001b[0;34m)\u001b[0m\u001b[0;34m\u001b[0m\u001b[0;34m\u001b[0m\u001b[0m\n\u001b[0m\u001b[1;32m      3\u001b[0m \u001b[0mimages\u001b[0m \u001b[0;34m=\u001b[0m \u001b[0mimages\u001b[0m\u001b[0;34m.\u001b[0m\u001b[0mcpu\u001b[0m\u001b[0;34m(\u001b[0m\u001b[0;34m)\u001b[0m\u001b[0;34m\u001b[0m\u001b[0;34m\u001b[0m\u001b[0m\n\u001b[1;32m      4\u001b[0m \u001b[0mimshow\u001b[0m\u001b[0;34m(\u001b[0m\u001b[0mtorchvision\u001b[0m\u001b[0;34m.\u001b[0m\u001b[0mutils\u001b[0m\u001b[0;34m.\u001b[0m\u001b[0mmake_grid\u001b[0m\u001b[0;34m(\u001b[0m\u001b[0mimages\u001b[0m\u001b[0;34m)\u001b[0m\u001b[0;34m)\u001b[0m\u001b[0;34m\u001b[0m\u001b[0;34m\u001b[0m\u001b[0m\n",
      "\u001b[0;32m~/anaconda3/lib/python3.7/site-packages/torch/utils/data/dataloader.py\u001b[0m in \u001b[0;36m__next__\u001b[0;34m(self)\u001b[0m\n\u001b[1;32m    433\u001b[0m         \u001b[0;32mif\u001b[0m \u001b[0mself\u001b[0m\u001b[0;34m.\u001b[0m\u001b[0m_sampler_iter\u001b[0m \u001b[0;32mis\u001b[0m \u001b[0;32mNone\u001b[0m\u001b[0;34m:\u001b[0m\u001b[0;34m\u001b[0m\u001b[0;34m\u001b[0m\u001b[0m\n\u001b[1;32m    434\u001b[0m             \u001b[0mself\u001b[0m\u001b[0;34m.\u001b[0m\u001b[0m_reset\u001b[0m\u001b[0;34m(\u001b[0m\u001b[0;34m)\u001b[0m\u001b[0;34m\u001b[0m\u001b[0;34m\u001b[0m\u001b[0m\n\u001b[0;32m--> 435\u001b[0;31m         \u001b[0mdata\u001b[0m \u001b[0;34m=\u001b[0m \u001b[0mself\u001b[0m\u001b[0;34m.\u001b[0m\u001b[0m_next_data\u001b[0m\u001b[0;34m(\u001b[0m\u001b[0;34m)\u001b[0m\u001b[0;34m\u001b[0m\u001b[0;34m\u001b[0m\u001b[0m\n\u001b[0m\u001b[1;32m    436\u001b[0m         \u001b[0mself\u001b[0m\u001b[0;34m.\u001b[0m\u001b[0m_num_yielded\u001b[0m \u001b[0;34m+=\u001b[0m \u001b[0;36m1\u001b[0m\u001b[0;34m\u001b[0m\u001b[0;34m\u001b[0m\u001b[0m\n\u001b[1;32m    437\u001b[0m         \u001b[0;32mif\u001b[0m \u001b[0mself\u001b[0m\u001b[0;34m.\u001b[0m\u001b[0m_dataset_kind\u001b[0m \u001b[0;34m==\u001b[0m \u001b[0m_DatasetKind\u001b[0m\u001b[0;34m.\u001b[0m\u001b[0mIterable\u001b[0m \u001b[0;32mand\u001b[0m\u001b[0;31m \u001b[0m\u001b[0;31m\\\u001b[0m\u001b[0;34m\u001b[0m\u001b[0;34m\u001b[0m\u001b[0m\n",
      "\u001b[0;32m~/anaconda3/lib/python3.7/site-packages/torch/utils/data/dataloader.py\u001b[0m in \u001b[0;36m_next_data\u001b[0;34m(self)\u001b[0m\n\u001b[1;32m    473\u001b[0m     \u001b[0;32mdef\u001b[0m \u001b[0m_next_data\u001b[0m\u001b[0;34m(\u001b[0m\u001b[0mself\u001b[0m\u001b[0;34m)\u001b[0m\u001b[0;34m:\u001b[0m\u001b[0;34m\u001b[0m\u001b[0;34m\u001b[0m\u001b[0m\n\u001b[1;32m    474\u001b[0m         \u001b[0mindex\u001b[0m \u001b[0;34m=\u001b[0m \u001b[0mself\u001b[0m\u001b[0;34m.\u001b[0m\u001b[0m_next_index\u001b[0m\u001b[0;34m(\u001b[0m\u001b[0;34m)\u001b[0m  \u001b[0;31m# may raise StopIteration\u001b[0m\u001b[0;34m\u001b[0m\u001b[0;34m\u001b[0m\u001b[0m\n\u001b[0;32m--> 475\u001b[0;31m         \u001b[0mdata\u001b[0m \u001b[0;34m=\u001b[0m \u001b[0mself\u001b[0m\u001b[0;34m.\u001b[0m\u001b[0m_dataset_fetcher\u001b[0m\u001b[0;34m.\u001b[0m\u001b[0mfetch\u001b[0m\u001b[0;34m(\u001b[0m\u001b[0mindex\u001b[0m\u001b[0;34m)\u001b[0m  \u001b[0;31m# may raise StopIteration\u001b[0m\u001b[0;34m\u001b[0m\u001b[0;34m\u001b[0m\u001b[0m\n\u001b[0m\u001b[1;32m    476\u001b[0m         \u001b[0;32mif\u001b[0m \u001b[0mself\u001b[0m\u001b[0;34m.\u001b[0m\u001b[0m_pin_memory\u001b[0m\u001b[0;34m:\u001b[0m\u001b[0;34m\u001b[0m\u001b[0;34m\u001b[0m\u001b[0m\n\u001b[1;32m    477\u001b[0m             \u001b[0mdata\u001b[0m \u001b[0;34m=\u001b[0m \u001b[0m_utils\u001b[0m\u001b[0;34m.\u001b[0m\u001b[0mpin_memory\u001b[0m\u001b[0;34m.\u001b[0m\u001b[0mpin_memory\u001b[0m\u001b[0;34m(\u001b[0m\u001b[0mdata\u001b[0m\u001b[0;34m)\u001b[0m\u001b[0;34m\u001b[0m\u001b[0;34m\u001b[0m\u001b[0m\n",
      "\u001b[0;32m~/anaconda3/lib/python3.7/site-packages/torch/utils/data/_utils/fetch.py\u001b[0m in \u001b[0;36mfetch\u001b[0;34m(self, possibly_batched_index)\u001b[0m\n\u001b[1;32m     42\u001b[0m     \u001b[0;32mdef\u001b[0m \u001b[0mfetch\u001b[0m\u001b[0;34m(\u001b[0m\u001b[0mself\u001b[0m\u001b[0;34m,\u001b[0m \u001b[0mpossibly_batched_index\u001b[0m\u001b[0;34m)\u001b[0m\u001b[0;34m:\u001b[0m\u001b[0;34m\u001b[0m\u001b[0;34m\u001b[0m\u001b[0m\n\u001b[1;32m     43\u001b[0m         \u001b[0;32mif\u001b[0m \u001b[0mself\u001b[0m\u001b[0;34m.\u001b[0m\u001b[0mauto_collation\u001b[0m\u001b[0;34m:\u001b[0m\u001b[0;34m\u001b[0m\u001b[0;34m\u001b[0m\u001b[0m\n\u001b[0;32m---> 44\u001b[0;31m             \u001b[0mdata\u001b[0m \u001b[0;34m=\u001b[0m \u001b[0;34m[\u001b[0m\u001b[0mself\u001b[0m\u001b[0;34m.\u001b[0m\u001b[0mdataset\u001b[0m\u001b[0;34m[\u001b[0m\u001b[0midx\u001b[0m\u001b[0;34m]\u001b[0m \u001b[0;32mfor\u001b[0m \u001b[0midx\u001b[0m \u001b[0;32min\u001b[0m \u001b[0mpossibly_batched_index\u001b[0m\u001b[0;34m]\u001b[0m\u001b[0;34m\u001b[0m\u001b[0;34m\u001b[0m\u001b[0m\n\u001b[0m\u001b[1;32m     45\u001b[0m         \u001b[0;32melse\u001b[0m\u001b[0;34m:\u001b[0m\u001b[0;34m\u001b[0m\u001b[0;34m\u001b[0m\u001b[0m\n\u001b[1;32m     46\u001b[0m             \u001b[0mdata\u001b[0m \u001b[0;34m=\u001b[0m \u001b[0mself\u001b[0m\u001b[0;34m.\u001b[0m\u001b[0mdataset\u001b[0m\u001b[0;34m[\u001b[0m\u001b[0mpossibly_batched_index\u001b[0m\u001b[0;34m]\u001b[0m\u001b[0;34m\u001b[0m\u001b[0;34m\u001b[0m\u001b[0m\n",
      "\u001b[0;32m~/anaconda3/lib/python3.7/site-packages/torch/utils/data/_utils/fetch.py\u001b[0m in \u001b[0;36m<listcomp>\u001b[0;34m(.0)\u001b[0m\n\u001b[1;32m     42\u001b[0m     \u001b[0;32mdef\u001b[0m \u001b[0mfetch\u001b[0m\u001b[0;34m(\u001b[0m\u001b[0mself\u001b[0m\u001b[0;34m,\u001b[0m \u001b[0mpossibly_batched_index\u001b[0m\u001b[0;34m)\u001b[0m\u001b[0;34m:\u001b[0m\u001b[0;34m\u001b[0m\u001b[0;34m\u001b[0m\u001b[0m\n\u001b[1;32m     43\u001b[0m         \u001b[0;32mif\u001b[0m \u001b[0mself\u001b[0m\u001b[0;34m.\u001b[0m\u001b[0mauto_collation\u001b[0m\u001b[0;34m:\u001b[0m\u001b[0;34m\u001b[0m\u001b[0;34m\u001b[0m\u001b[0m\n\u001b[0;32m---> 44\u001b[0;31m             \u001b[0mdata\u001b[0m \u001b[0;34m=\u001b[0m \u001b[0;34m[\u001b[0m\u001b[0mself\u001b[0m\u001b[0;34m.\u001b[0m\u001b[0mdataset\u001b[0m\u001b[0;34m[\u001b[0m\u001b[0midx\u001b[0m\u001b[0;34m]\u001b[0m \u001b[0;32mfor\u001b[0m \u001b[0midx\u001b[0m \u001b[0;32min\u001b[0m \u001b[0mpossibly_batched_index\u001b[0m\u001b[0;34m]\u001b[0m\u001b[0;34m\u001b[0m\u001b[0;34m\u001b[0m\u001b[0m\n\u001b[0m\u001b[1;32m     45\u001b[0m         \u001b[0;32melse\u001b[0m\u001b[0;34m:\u001b[0m\u001b[0;34m\u001b[0m\u001b[0;34m\u001b[0m\u001b[0m\n\u001b[1;32m     46\u001b[0m             \u001b[0mdata\u001b[0m \u001b[0;34m=\u001b[0m \u001b[0mself\u001b[0m\u001b[0;34m.\u001b[0m\u001b[0mdataset\u001b[0m\u001b[0;34m[\u001b[0m\u001b[0mpossibly_batched_index\u001b[0m\u001b[0;34m]\u001b[0m\u001b[0;34m\u001b[0m\u001b[0;34m\u001b[0m\u001b[0m\n",
      "\u001b[0;32m~/cispa/BadNets-Implementation/datasets/poisoned_datasets.py\u001b[0m in \u001b[0;36m__getitem__\u001b[0;34m(self, item)\u001b[0m\n\u001b[1;32m     89\u001b[0m         \u001b[0mlabel\u001b[0m \u001b[0;34m=\u001b[0m \u001b[0mtorch\u001b[0m\u001b[0;34m.\u001b[0m\u001b[0mTensor\u001b[0m\u001b[0;34m(\u001b[0m\u001b[0mlabel\u001b[0m\u001b[0;34m)\u001b[0m\u001b[0;34m\u001b[0m\u001b[0;34m\u001b[0m\u001b[0m\n\u001b[1;32m     90\u001b[0m \u001b[0;34m\u001b[0m\u001b[0m\n\u001b[0;32m---> 91\u001b[0;31m         \u001b[0mimg\u001b[0m \u001b[0;34m=\u001b[0m \u001b[0mimg\u001b[0m\u001b[0;34m.\u001b[0m\u001b[0mto\u001b[0m\u001b[0;34m(\u001b[0m\u001b[0mself\u001b[0m\u001b[0;34m.\u001b[0m\u001b[0mdevice\u001b[0m\u001b[0;34m)\u001b[0m\u001b[0;34m\u001b[0m\u001b[0;34m\u001b[0m\u001b[0m\n\u001b[0m\u001b[1;32m     92\u001b[0m         \u001b[0mlabel\u001b[0m \u001b[0;34m=\u001b[0m \u001b[0mlabel\u001b[0m\u001b[0;34m.\u001b[0m\u001b[0mto\u001b[0m\u001b[0;34m(\u001b[0m\u001b[0mself\u001b[0m\u001b[0;34m.\u001b[0m\u001b[0mdevice\u001b[0m\u001b[0;34m)\u001b[0m\u001b[0;34m\u001b[0m\u001b[0;34m\u001b[0m\u001b[0m\n\u001b[1;32m     93\u001b[0m \u001b[0;34m\u001b[0m\u001b[0m\n",
      "\u001b[0;31mAttributeError\u001b[0m: 'numpy.ndarray' object has no attribute 'to'"
     ]
    }
   ],
   "source": [
    "import torchvision\n",
    "images, labels = next(iter(test_backdoored_loader_1))\n",
    "images = images.cpu()\n",
    "imshow(torchvision.utils.make_grid(images))"
   ]
  },
  {
   "cell_type": "code",
   "execution_count": 8,
   "metadata": {},
   "outputs": [
    {
     "name": "stdout",
     "output_type": "stream",
     "text": [
      "Files already downloaded and verified\n"
     ]
    }
   ],
   "source": [
    "from torchvision import  transforms\n",
    "\n",
    "transform = transforms.Compose([transforms.ToTensor()])\n",
    "test_data_p  = datasets.CIFAR10(root='./data', train=False,transform=transform,download=True)"
   ]
  },
  {
   "cell_type": "code",
   "execution_count": 9,
   "metadata": {},
   "outputs": [
    {
     "name": "stdout",
     "output_type": "stream",
     "text": [
      "torch.Size([10000, 3, 32, 32])\n",
      "10000\n",
      " 2000 Bad Imgs, 8000 Clean Imgs (0.20)\n"
     ]
    }
   ],
   "source": [
    "from datasets.poisoned_datasets import PoisonedDataset \n",
    "l = PoisonedDataset(test_data_p,dataset_name=\"cifar10\",  backdoor_pattern=True,backdoor_portion=0.2,attack_type=-1)\n"
   ]
  },
  {
   "cell_type": "code",
   "execution_count": 11,
   "metadata": {
    "scrolled": true
   },
   "outputs": [
    {
     "name": "stderr",
     "output_type": "stream",
     "text": [
      "Clipping input data to the valid range for imshow with RGB data ([0..1] for floats or [0..255] for integers).\n"
     ]
    },
    {
     "data": {
      "image/png": "[encoded data removed]",
      "text/plain": [
       "<Figure size 432x288 with 1 Axes>"
      ]
     },
     "metadata": {
      "needs_background": "light"
     },
     "output_type": "display_data"
    }
   ],
   "source": [
    "import matplotlib.pyplot as plt\n",
    "import numpy as np\n",
    "import torchvision\n",
    "# functions to show an image\n",
    "\n",
    "\n",
    "def imshow(img):\n",
    "    img = img / 2 + 0.5     # unnormalize\n",
    "    img = img.cpu()\n",
    "    npimg = img.numpy()\n",
    "    plt.imshow(np.transpose(npimg, (1, 2, 0)))\n",
    "    plt.show()\n",
    "\n",
    "\n",
    "# get some random training images\n",
    "dataiter = iter(train_backdoored_loader_1)\n",
    "images, labels = dataiter.next()\n",
    "\n",
    "# show images\n",
    "imshow(torchvision.utils.make_grid(images))\n",
    "# print labels\n"
   ]
  },
  {
   "cell_type": "code",
   "execution_count": null,
   "metadata": {},
   "outputs": [],
   "source": []
  },
  {
   "cell_type": "code",
   "execution_count": null,
   "metadata": {},
   "outputs": [],
   "source": []
  },
  {
   "cell_type": "code",
   "execution_count": null,
   "metadata": {},
   "outputs": [],
   "source": []
  },
  {
   "cell_type": "code",
   "execution_count": null,
   "metadata": {},
   "outputs": [],
   "source": []
  },
  {
   "cell_type": "code",
   "execution_count": null,
   "metadata": {},
   "outputs": [],
   "source": []
  },
  {
   "cell_type": "code",
   "execution_count": null,
   "metadata": {
    "scrolled": false
   },
   "outputs": [],
   "source": []
  },
  {
   "cell_type": "code",
   "execution_count": null,
   "metadata": {},
   "outputs": [],
   "source": []
  },
  {
   "cell_type": "code",
   "execution_count": null,
   "metadata": {},
   "outputs": [],
   "source": []
  },
  {
   "cell_type": "code",
   "execution_count": 29,
   "metadata": {},
   "outputs": [],
   "source": []
  },
  {
   "cell_type": "code",
   "execution_count": null,
   "metadata": {},
   "outputs": [],
   "source": []
  },
  {
   "cell_type": "code",
   "execution_count": null,
   "metadata": {},
   "outputs": [],
   "source": []
  },
  {
   "cell_type": "code",
   "execution_count": 10,
   "metadata": {},
   "outputs": [],
   "source": []
  },
  {
   "cell_type": "code",
   "execution_count": null,
   "metadata": {},
   "outputs": [],
   "source": []
  },
  {
   "cell_type": "code",
   "execution_count": null,
   "metadata": {},
   "outputs": [],
   "source": []
  },
  {
   "cell_type": "code",
   "execution_count": null,
   "metadata": {},
   "outputs": [],
   "source": []
  },
  {
   "cell_type": "code",
   "execution_count": null,
   "metadata": {},
   "outputs": [],
   "source": []
  },
  {
   "cell_type": "code",
   "execution_count": null,
   "metadata": {},
   "outputs": [],
   "source": []
  },
  {
   "cell_type": "code",
   "execution_count": 7,
   "metadata": {},
   "outputs": [],
   "source": []
  },
  {
   "cell_type": "code",
   "execution_count": null,
   "metadata": {},
   "outputs": [],
   "source": []
  },
  {
   "cell_type": "code",
   "execution_count": 20,
   "metadata": {},
   "outputs": [],
   "source": []
  },
  {
   "cell_type": "code",
   "execution_count": 27,
   "metadata": {},
   "outputs": [],
   "source": []
  },
  {
   "cell_type": "code",
   "execution_count": 2,
   "metadata": {},
   "outputs": [],
   "source": []
  },
  {
   "cell_type": "code",
   "execution_count": null,
   "metadata": {},
   "outputs": [],
   "source": []
  },
  {
   "cell_type": "code",
   "execution_count": null,
   "metadata": {},
   "outputs": [],
   "source": []
  },
  {
   "cell_type": "code",
   "execution_count": null,
   "metadata": {},
   "outputs": [],
   "source": []
  },
  {
   "cell_type": "code",
   "execution_count": null,
   "metadata": {},
   "outputs": [],
   "source": []
  }
 ],
 "metadata": {
  "kernelspec": {
   "display_name": "Python 3",
   "language": "python",
   "name": "python3"
  },
  "language_info": {
   "codemirror_mode": {
    "name": "ipython",
    "version": 3
   },
   "file_extension": ".py",
   "mimetype": "text/x-python",
   "name": "python",
   "nbconvert_exporter": "python",
   "pygments_lexer": "ipython3",
   "version": "3.7.6"
  }
 },
 "nbformat": 4,
 "nbformat_minor": 2
}
